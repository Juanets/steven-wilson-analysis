{
  "cells": [
    {
      "metadata": {
        "_cell_guid": "c170a559-053c-44f3-8ebf-c580eab173cd",
        "collapsed": true,
        "_uuid": "67630004a083cfed0cfec09dc6448a0b0881023f",
        "trusted": true
      },
      "cell_type": "code",
      "source": "import pandas as pd\n\ntrain_data = pd.read_csv('../input/Training.csv', encoding='ISO-8859-1')\ntest_data = pd.read_csv('../input/Test.csv', encoding='ISO-8859-1')",
      "execution_count": 1,
      "outputs": []
    },
    {
      "metadata": {
        "_cell_guid": "0cdaece3-10a5-4144-a32b-f4db205046e3",
        "_uuid": "a9c6460190f13cc57a735e3ef1ae70280bf685bc"
      },
      "cell_type": "markdown",
      "source": "First, let's remove unwanted features (like `id`, `track url`, `name`, etc). "
    },
    {
      "metadata": {
        "_cell_guid": "832b94b7-3810-41c5-a958-d53b08b09ba8",
        "collapsed": true,
        "_uuid": "f912469f09486837e5a8fab15c5c5bfb9a419712",
        "trusted": true
      },
      "cell_type": "code",
      "source": "ignore = (['analysis_url', \n           'id', \n           'track_href', \n           'uri', \n           'type', \n           'album', \n           'name', \n           'duration_ms',\n          ])\n\ntrain_data.drop(ignore, axis=1, inplace=True)\nclean_test_data = test_data.drop(ignore, axis=1)\n",
      "execution_count": 2,
      "outputs": []
    },
    {
      "metadata": {
        "_cell_guid": "8459ffbd-f6c5-410e-b7a9-6cbec82f21e1",
        "_uuid": "56236c3c36e91b759460622ef8a9052e030c1eea"
      },
      "cell_type": "markdown",
      "source": "Now, the important part: **which features am I gonna use?** What features define Steven Wilson's style the best?\n  \nAfter trying many combinations, analyzing some [graphs](https://www.kaggle.com/danielgrijalvas/comparing-steven-wilson-and-porcupine-tree) and checking with the Test dataset (a playlist with songs that may or may not sound like SW), I came to the conclusion that the best features for this problem are:\n* Energy\n* Instrumentalness\n* Loudness\n* Acousticness\n* Valence  \n  \nHowever, using some statistical tools like a t-test, we can tell whether the features from class 1 are significantly different from class 2, and select those with higher significance. Using scikit-learn's `feature_selection` and `f_classif` (basically a t-test), the features with higher significance (or \"score\", according to [scikit-learn docs](http://scikit-learn.org/stable/modules/generated/sklearn.feature_selection.SelectKBest.html)) are:\n* Danceability\n* Instrumentalness\n* Loudness\n* Speechiness\n* Valence  \n  \nSee, I *almost* got it right. `SelectKBest` chose `Danceability` instead of `Energy`, and `Speechiness` instead of `Acousticness`. I understand that the data from `Energy` is very spread out and that's why it got a low score/significance; but `Speechiness`...? That seems weird."
    },
    {
      "metadata": {
        "_cell_guid": "3a2fe40c-c7f7-425a-887b-7410a90d5171",
        "collapsed": true,
        "_uuid": "3564707372c1be41d9a2a609a935df65825ef0f3",
        "trusted": true
      },
      "cell_type": "code",
      "source": "from sklearn.feature_selection import SelectKBest\n\nfeatures = SelectKBest(k=4)\nfeatures.fit(train_data.loc[:, train_data.columns != 'class'], train_data['class'])\n\ncols = list(train_data.columns[features.get_support(1)])\n",
      "execution_count": 3,
      "outputs": []
    },
    {
      "metadata": {
        "_cell_guid": "cf5f5bbe-ebb7-4bd3-a4da-761e997bc4fa",
        "_uuid": "f8f746d69197a44b873630822b4e5fee3fbd392b"
      },
      "cell_type": "markdown",
      "source": "Now, let's train the machine learning algorithm, K-Nearest Neighbors. I'm leaving K as the default (5), but maybe later I'll try with higher values."
    },
    {
      "metadata": {
        "_cell_guid": "2a39df8d-d235-44a4-90b3-975882210194",
        "_uuid": "f2e4dfe16d21a97686f112e3290c8c1c964acaee",
        "_kg_hide-output": true,
        "scrolled": true,
        "trusted": true
      },
      "cell_type": "code",
      "source": "from sklearn.neighbors import KNeighborsClassifier as knn\n\n# train KNN with training data \nkn = knn(n_neighbors=13, weights='distance', p=2)\nkn.fit(train_data[cols], train_data['class'])",
      "execution_count": 4,
      "outputs": [
        {
          "output_type": "execute_result",
          "execution_count": 4,
          "data": {
            "text/plain": "KNeighborsClassifier(algorithm='auto', leaf_size=30, metric='minkowski',\n           metric_params=None, n_jobs=1, n_neighbors=13, p=2,\n           weights='distance')"
          },
          "metadata": {}
        }
      ]
    },
    {
      "metadata": {
        "_cell_guid": "aa1d7be0-96fc-41ec-a191-d3fdd03a9501",
        "_uuid": "93320b87420981d3203599fe854b1f2762f49f35"
      },
      "cell_type": "markdown",
      "source": "The algorithm is trained. Let's use what it learned to classify a playlist (`Test.csv`, a playlist with 100 songs that may or may not fit well between Steven Wilson songs). Also I'll add the predicted value and probabilites to the `Test` dataset."
    },
    {
      "metadata": {
        "_cell_guid": "3e35da45-238d-43e1-bbc4-9caafd3c9309",
        "collapsed": true,
        "_uuid": "2ac08ab894fa4e81eebe061b7fb741eb49f6b6fa",
        "trusted": true
      },
      "cell_type": "code",
      "source": "# classify/predict class of test songs\npredictions = kn.predict(test_data[cols])\ntest_data['predict'] = predictions\n\n# probability that a song is 0/1\nprob = kn.predict_proba(test_data[cols])\ntest_data['prob0'] = [p[0] for p in prob]\ntest_data['prob1'] = [p[1] for p in prob]",
      "execution_count": 5,
      "outputs": []
    },
    {
      "metadata": {
        "_cell_guid": "b08b2967-a7e3-44ce-a2c6-87009d996b34",
        "_uuid": "350923358972464130907ec96d45ecfd540e884a"
      },
      "cell_type": "markdown",
      "source": "## Results\nLet's check the results. If you want to check them yourself, give [Steven Wilson](https://open.spotify.com/artist/4X42BfuhWCAZ2swiVze9O0)/[Porcupine Tree](https://open.spotify.com/artist/5NXHXK6hOCotCF8lvGM1I0) a listen and then head over to the [Test playlist](https://open.spotify.com/user/jdgs.gt/playlist/6wCTUaDlzdzrqMUzkCd9Zx) and listen to the songs where `prob1` is 1 to check similarities. Or listen to the songs where `prob0` is 1, and you'll see the huge differences of musical style.\n\n **UPDATE**: I added the songs with > 80% probability of being **1**  (similar to Steven Wilson) to [this playlist](https://open.spotify.com/user/jdgs.gt/playlist/0D7EWUrrBuza4H8SuzDqyI). It's just 35 songs long, but the results are really good. "
    },
    {
      "metadata": {
        "_kg_hide-input": false,
        "_cell_guid": "17d7272f-aa11-4c22-b5b0-626a45677902",
        "_uuid": "b424a11cf244bd06a33b21c988bc97f06ea877f3",
        "_kg_hide-output": false,
        "scrolled": true,
        "trusted": true
      },
      "cell_type": "code",
      "source": "# full results\ntest_data[['name', 'class', 'predict', 'prob0', 'prob1']]",
      "execution_count": 6,
      "outputs": [
        {
          "output_type": "execute_result",
          "execution_count": 6,
          "data": {
            "text/plain": "                                       name  class  predict     prob0  \\\n0                                   Animals    0.0        0  0.613088   \n1                     The Closest I've Come    0.0        1  0.351881   \n2                                 Coma Pony    0.0        0  0.936205   \n3                                      Doce    0.0        0  0.748637   \n4                          The End Is Begun    0.0        0  1.000000   \n5                               (Go) Get It    0.0        0  0.698240   \n6                              Heartbreaker    0.0        0  0.624496   \n7                         The Invisible Man    1.0        1  0.253858   \n8                          Kodokunohatsumei    0.0        0  0.653547   \n9                                The Lesson    0.0        0  0.629534   \n10                                     Love    0.0        0  0.511375   \n11                   The Moments In Between    0.0        0  0.616533   \n12                                   ï¿½tta    1.0        1  0.223891   \n13                         Perpetual Oyster    0.0        0  0.869539   \n14                             Retrovertigo    0.0        1  0.374072   \n15                                  Shalala    0.0        0  0.814714   \n16                                    Slant    0.0        0  0.807267   \n17                              Sleep Apnea    0.0        0  0.635531   \n18                   Some Time Alone, Alone    0.0        0  0.910311   \n19     Soothsayer (dedicated to Aunt Suzie)    0.0        0  0.632766   \n20                     Space To Bakersfield    1.0        1  0.082681   \n21                        Strong Reflection    0.0        0  0.711295   \n22                   Swung From the Gutters    0.0        0  0.636671   \n23                             Venice Queen    1.0        1  0.426050   \n24                                 You Lied    0.0        1  0.373112   \n25  Roundabout - Remastered Early Rough Mix    1.0        0  0.645163   \n26                                      YYZ    0.0        0  0.759667   \n27                              The Numbers    1.0        1  0.081791   \n28           Then Came the Last Days of May    0.0        0  0.579588   \n29   Firth Of Fifth - 2008 Digital Remaster    1.0        1  0.456957   \n..                                      ...    ...      ...       ...   \n70                                Nuttville    0.0        0  1.000000   \n71                                     Wise    0.0        1  0.396938   \n72                         Challenge Within    0.0        0  0.814945   \n73                              First Light    0.0        0  1.000000   \n74                      Thunderbirds Are Go    0.0        0  0.933300   \n75                             Chrome Waves    0.0        0  0.823674   \n76            Never Be Like You (feat. Kai)    0.0        0  0.693867   \n77                            Again & Again    0.0        0  0.792730   \n78                           Hello Stranger    0.0        0  0.707272   \n79            I Am A Man Of Constant Sorrow    0.0        0  1.000000   \n80                            I Feel It All    0.0        0  1.000000   \n81                              Grey Street    0.0        0  1.000000   \n82                           Fun In The Sun    0.0        0  0.864817   \n83     And the Swallows Dance Above the Sun    0.0        0  0.933473   \n84                    The Nostalgia Factory    1.0        1  0.339338   \n85                    Voyage 34 (Phase One)    1.0        1  0.303174   \n86           Synesthesia (Extended Version)    1.0        1  0.172252   \n87                                 Phantoms    1.0        1  0.317906   \n88                         Up the Downstair    0.0        1  0.065768   \n89                                 Fadeaway    1.0        1  0.156723   \n90                                Stars Die    1.0        1  0.210206   \n91       The Sky Moves Sideways (Phase One)    1.0        1  0.205608   \n92                              Men of Wood    0.0        0  0.755336   \n93                                  Waiting    1.0        0  0.698659   \n94            The Sound of No-One Listening    1.0        1  0.235831   \n95                       Colourflow in Mind    1.0        1  0.266225   \n96                               Signify II    0.0        0  0.690534   \n97                      Every Home Is Wired    1.0        1  0.209277   \n98                                    Sever    1.0        1  0.316541   \n99                              Dark Matter    1.0        1  0.126003   \n\n       prob1  \n0   0.386912  \n1   0.648119  \n2   0.063795  \n3   0.251363  \n4   0.000000  \n5   0.301760  \n6   0.375504  \n7   0.746142  \n8   0.346453  \n9   0.370466  \n10  0.488625  \n11  0.383467  \n12  0.776109  \n13  0.130461  \n14  0.625928  \n15  0.185286  \n16  0.192733  \n17  0.364469  \n18  0.089689  \n19  0.367234  \n20  0.917319  \n21  0.288705  \n22  0.363329  \n23  0.573950  \n24  0.626888  \n25  0.354837  \n26  0.240333  \n27  0.918209  \n28  0.420412  \n29  0.543043  \n..       ...  \n70  0.000000  \n71  0.603062  \n72  0.185055  \n73  0.000000  \n74  0.066700  \n75  0.176326  \n76  0.306133  \n77  0.207270  \n78  0.292728  \n79  0.000000  \n80  0.000000  \n81  0.000000  \n82  0.135183  \n83  0.066527  \n84  0.660662  \n85  0.696826  \n86  0.827748  \n87  0.682094  \n88  0.934232  \n89  0.843277  \n90  0.789794  \n91  0.794392  \n92  0.244664  \n93  0.301341  \n94  0.764169  \n95  0.733775  \n96  0.309466  \n97  0.790723  \n98  0.683459  \n99  0.873997  \n\n[100 rows x 5 columns]",
            "text/html": "<div>\n<style>\n    .dataframe thead tr:only-child th {\n        text-align: right;\n    }\n\n    .dataframe thead th {\n        text-align: left;\n    }\n\n    .dataframe tbody tr th {\n        vertical-align: top;\n    }\n</style>\n<table border=\"1\" class=\"dataframe\">\n  <thead>\n    <tr style=\"text-align: right;\">\n      <th></th>\n      <th>name</th>\n      <th>class</th>\n      <th>predict</th>\n      <th>prob0</th>\n      <th>prob1</th>\n    </tr>\n  </thead>\n  <tbody>\n    <tr>\n      <th>0</th>\n      <td>Animals</td>\n      <td>0.0</td>\n      <td>0</td>\n      <td>0.613088</td>\n      <td>0.386912</td>\n    </tr>\n    <tr>\n      <th>1</th>\n      <td>The Closest I've Come</td>\n      <td>0.0</td>\n      <td>1</td>\n      <td>0.351881</td>\n      <td>0.648119</td>\n    </tr>\n    <tr>\n      <th>2</th>\n      <td>Coma Pony</td>\n      <td>0.0</td>\n      <td>0</td>\n      <td>0.936205</td>\n      <td>0.063795</td>\n    </tr>\n    <tr>\n      <th>3</th>\n      <td>Doce</td>\n      <td>0.0</td>\n      <td>0</td>\n      <td>0.748637</td>\n      <td>0.251363</td>\n    </tr>\n    <tr>\n      <th>4</th>\n      <td>The End Is Begun</td>\n      <td>0.0</td>\n      <td>0</td>\n      <td>1.000000</td>\n      <td>0.000000</td>\n    </tr>\n    <tr>\n      <th>5</th>\n      <td>(Go) Get It</td>\n      <td>0.0</td>\n      <td>0</td>\n      <td>0.698240</td>\n      <td>0.301760</td>\n    </tr>\n    <tr>\n      <th>6</th>\n      <td>Heartbreaker</td>\n      <td>0.0</td>\n      <td>0</td>\n      <td>0.624496</td>\n      <td>0.375504</td>\n    </tr>\n    <tr>\n      <th>7</th>\n      <td>The Invisible Man</td>\n      <td>1.0</td>\n      <td>1</td>\n      <td>0.253858</td>\n      <td>0.746142</td>\n    </tr>\n    <tr>\n      <th>8</th>\n      <td>Kodokunohatsumei</td>\n      <td>0.0</td>\n      <td>0</td>\n      <td>0.653547</td>\n      <td>0.346453</td>\n    </tr>\n    <tr>\n      <th>9</th>\n      <td>The Lesson</td>\n      <td>0.0</td>\n      <td>0</td>\n      <td>0.629534</td>\n      <td>0.370466</td>\n    </tr>\n    <tr>\n      <th>10</th>\n      <td>Love</td>\n      <td>0.0</td>\n      <td>0</td>\n      <td>0.511375</td>\n      <td>0.488625</td>\n    </tr>\n    <tr>\n      <th>11</th>\n      <td>The Moments In Between</td>\n      <td>0.0</td>\n      <td>0</td>\n      <td>0.616533</td>\n      <td>0.383467</td>\n    </tr>\n    <tr>\n      <th>12</th>\n      <td>ï¿½tta</td>\n      <td>1.0</td>\n      <td>1</td>\n      <td>0.223891</td>\n      <td>0.776109</td>\n    </tr>\n    <tr>\n      <th>13</th>\n      <td>Perpetual Oyster</td>\n      <td>0.0</td>\n      <td>0</td>\n      <td>0.869539</td>\n      <td>0.130461</td>\n    </tr>\n    <tr>\n      <th>14</th>\n      <td>Retrovertigo</td>\n      <td>0.0</td>\n      <td>1</td>\n      <td>0.374072</td>\n      <td>0.625928</td>\n    </tr>\n    <tr>\n      <th>15</th>\n      <td>Shalala</td>\n      <td>0.0</td>\n      <td>0</td>\n      <td>0.814714</td>\n      <td>0.185286</td>\n    </tr>\n    <tr>\n      <th>16</th>\n      <td>Slant</td>\n      <td>0.0</td>\n      <td>0</td>\n      <td>0.807267</td>\n      <td>0.192733</td>\n    </tr>\n    <tr>\n      <th>17</th>\n      <td>Sleep Apnea</td>\n      <td>0.0</td>\n      <td>0</td>\n      <td>0.635531</td>\n      <td>0.364469</td>\n    </tr>\n    <tr>\n      <th>18</th>\n      <td>Some Time Alone, Alone</td>\n      <td>0.0</td>\n      <td>0</td>\n      <td>0.910311</td>\n      <td>0.089689</td>\n    </tr>\n    <tr>\n      <th>19</th>\n      <td>Soothsayer (dedicated to Aunt Suzie)</td>\n      <td>0.0</td>\n      <td>0</td>\n      <td>0.632766</td>\n      <td>0.367234</td>\n    </tr>\n    <tr>\n      <th>20</th>\n      <td>Space To Bakersfield</td>\n      <td>1.0</td>\n      <td>1</td>\n      <td>0.082681</td>\n      <td>0.917319</td>\n    </tr>\n    <tr>\n      <th>21</th>\n      <td>Strong Reflection</td>\n      <td>0.0</td>\n      <td>0</td>\n      <td>0.711295</td>\n      <td>0.288705</td>\n    </tr>\n    <tr>\n      <th>22</th>\n      <td>Swung From the Gutters</td>\n      <td>0.0</td>\n      <td>0</td>\n      <td>0.636671</td>\n      <td>0.363329</td>\n    </tr>\n    <tr>\n      <th>23</th>\n      <td>Venice Queen</td>\n      <td>1.0</td>\n      <td>1</td>\n      <td>0.426050</td>\n      <td>0.573950</td>\n    </tr>\n    <tr>\n      <th>24</th>\n      <td>You Lied</td>\n      <td>0.0</td>\n      <td>1</td>\n      <td>0.373112</td>\n      <td>0.626888</td>\n    </tr>\n    <tr>\n      <th>25</th>\n      <td>Roundabout - Remastered Early Rough Mix</td>\n      <td>1.0</td>\n      <td>0</td>\n      <td>0.645163</td>\n      <td>0.354837</td>\n    </tr>\n    <tr>\n      <th>26</th>\n      <td>YYZ</td>\n      <td>0.0</td>\n      <td>0</td>\n      <td>0.759667</td>\n      <td>0.240333</td>\n    </tr>\n    <tr>\n      <th>27</th>\n      <td>The Numbers</td>\n      <td>1.0</td>\n      <td>1</td>\n      <td>0.081791</td>\n      <td>0.918209</td>\n    </tr>\n    <tr>\n      <th>28</th>\n      <td>Then Came the Last Days of May</td>\n      <td>0.0</td>\n      <td>0</td>\n      <td>0.579588</td>\n      <td>0.420412</td>\n    </tr>\n    <tr>\n      <th>29</th>\n      <td>Firth Of Fifth - 2008 Digital Remaster</td>\n      <td>1.0</td>\n      <td>1</td>\n      <td>0.456957</td>\n      <td>0.543043</td>\n    </tr>\n    <tr>\n      <th>...</th>\n      <td>...</td>\n      <td>...</td>\n      <td>...</td>\n      <td>...</td>\n      <td>...</td>\n    </tr>\n    <tr>\n      <th>70</th>\n      <td>Nuttville</td>\n      <td>0.0</td>\n      <td>0</td>\n      <td>1.000000</td>\n      <td>0.000000</td>\n    </tr>\n    <tr>\n      <th>71</th>\n      <td>Wise</td>\n      <td>0.0</td>\n      <td>1</td>\n      <td>0.396938</td>\n      <td>0.603062</td>\n    </tr>\n    <tr>\n      <th>72</th>\n      <td>Challenge Within</td>\n      <td>0.0</td>\n      <td>0</td>\n      <td>0.814945</td>\n      <td>0.185055</td>\n    </tr>\n    <tr>\n      <th>73</th>\n      <td>First Light</td>\n      <td>0.0</td>\n      <td>0</td>\n      <td>1.000000</td>\n      <td>0.000000</td>\n    </tr>\n    <tr>\n      <th>74</th>\n      <td>Thunderbirds Are Go</td>\n      <td>0.0</td>\n      <td>0</td>\n      <td>0.933300</td>\n      <td>0.066700</td>\n    </tr>\n    <tr>\n      <th>75</th>\n      <td>Chrome Waves</td>\n      <td>0.0</td>\n      <td>0</td>\n      <td>0.823674</td>\n      <td>0.176326</td>\n    </tr>\n    <tr>\n      <th>76</th>\n      <td>Never Be Like You (feat. Kai)</td>\n      <td>0.0</td>\n      <td>0</td>\n      <td>0.693867</td>\n      <td>0.306133</td>\n    </tr>\n    <tr>\n      <th>77</th>\n      <td>Again &amp; Again</td>\n      <td>0.0</td>\n      <td>0</td>\n      <td>0.792730</td>\n      <td>0.207270</td>\n    </tr>\n    <tr>\n      <th>78</th>\n      <td>Hello Stranger</td>\n      <td>0.0</td>\n      <td>0</td>\n      <td>0.707272</td>\n      <td>0.292728</td>\n    </tr>\n    <tr>\n      <th>79</th>\n      <td>I Am A Man Of Constant Sorrow</td>\n      <td>0.0</td>\n      <td>0</td>\n      <td>1.000000</td>\n      <td>0.000000</td>\n    </tr>\n    <tr>\n      <th>80</th>\n      <td>I Feel It All</td>\n      <td>0.0</td>\n      <td>0</td>\n      <td>1.000000</td>\n      <td>0.000000</td>\n    </tr>\n    <tr>\n      <th>81</th>\n      <td>Grey Street</td>\n      <td>0.0</td>\n      <td>0</td>\n      <td>1.000000</td>\n      <td>0.000000</td>\n    </tr>\n    <tr>\n      <th>82</th>\n      <td>Fun In The Sun</td>\n      <td>0.0</td>\n      <td>0</td>\n      <td>0.864817</td>\n      <td>0.135183</td>\n    </tr>\n    <tr>\n      <th>83</th>\n      <td>And the Swallows Dance Above the Sun</td>\n      <td>0.0</td>\n      <td>0</td>\n      <td>0.933473</td>\n      <td>0.066527</td>\n    </tr>\n    <tr>\n      <th>84</th>\n      <td>The Nostalgia Factory</td>\n      <td>1.0</td>\n      <td>1</td>\n      <td>0.339338</td>\n      <td>0.660662</td>\n    </tr>\n    <tr>\n      <th>85</th>\n      <td>Voyage 34 (Phase One)</td>\n      <td>1.0</td>\n      <td>1</td>\n      <td>0.303174</td>\n      <td>0.696826</td>\n    </tr>\n    <tr>\n      <th>86</th>\n      <td>Synesthesia (Extended Version)</td>\n      <td>1.0</td>\n      <td>1</td>\n      <td>0.172252</td>\n      <td>0.827748</td>\n    </tr>\n    <tr>\n      <th>87</th>\n      <td>Phantoms</td>\n      <td>1.0</td>\n      <td>1</td>\n      <td>0.317906</td>\n      <td>0.682094</td>\n    </tr>\n    <tr>\n      <th>88</th>\n      <td>Up the Downstair</td>\n      <td>0.0</td>\n      <td>1</td>\n      <td>0.065768</td>\n      <td>0.934232</td>\n    </tr>\n    <tr>\n      <th>89</th>\n      <td>Fadeaway</td>\n      <td>1.0</td>\n      <td>1</td>\n      <td>0.156723</td>\n      <td>0.843277</td>\n    </tr>\n    <tr>\n      <th>90</th>\n      <td>Stars Die</td>\n      <td>1.0</td>\n      <td>1</td>\n      <td>0.210206</td>\n      <td>0.789794</td>\n    </tr>\n    <tr>\n      <th>91</th>\n      <td>The Sky Moves Sideways (Phase One)</td>\n      <td>1.0</td>\n      <td>1</td>\n      <td>0.205608</td>\n      <td>0.794392</td>\n    </tr>\n    <tr>\n      <th>92</th>\n      <td>Men of Wood</td>\n      <td>0.0</td>\n      <td>0</td>\n      <td>0.755336</td>\n      <td>0.244664</td>\n    </tr>\n    <tr>\n      <th>93</th>\n      <td>Waiting</td>\n      <td>1.0</td>\n      <td>0</td>\n      <td>0.698659</td>\n      <td>0.301341</td>\n    </tr>\n    <tr>\n      <th>94</th>\n      <td>The Sound of No-One Listening</td>\n      <td>1.0</td>\n      <td>1</td>\n      <td>0.235831</td>\n      <td>0.764169</td>\n    </tr>\n    <tr>\n      <th>95</th>\n      <td>Colourflow in Mind</td>\n      <td>1.0</td>\n      <td>1</td>\n      <td>0.266225</td>\n      <td>0.733775</td>\n    </tr>\n    <tr>\n      <th>96</th>\n      <td>Signify II</td>\n      <td>0.0</td>\n      <td>0</td>\n      <td>0.690534</td>\n      <td>0.309466</td>\n    </tr>\n    <tr>\n      <th>97</th>\n      <td>Every Home Is Wired</td>\n      <td>1.0</td>\n      <td>1</td>\n      <td>0.209277</td>\n      <td>0.790723</td>\n    </tr>\n    <tr>\n      <th>98</th>\n      <td>Sever</td>\n      <td>1.0</td>\n      <td>1</td>\n      <td>0.316541</td>\n      <td>0.683459</td>\n    </tr>\n    <tr>\n      <th>99</th>\n      <td>Dark Matter</td>\n      <td>1.0</td>\n      <td>1</td>\n      <td>0.126003</td>\n      <td>0.873997</td>\n    </tr>\n  </tbody>\n</table>\n<p>100 rows × 5 columns</p>\n</div>"
          },
          "metadata": {}
        }
      ]
    },
    {
      "metadata": {
        "_cell_guid": "130e220e-e81c-4dfe-b0bf-9170cb16dc39",
        "_uuid": "88ae574392aebcb3f257bf1b0d5519a4851218dc"
      },
      "cell_type": "markdown",
      "source": "### False positives\nOk, so how many songs were classified as Steven Wilson?"
    },
    {
      "metadata": {
        "_cell_guid": "b3beb5ab-e1c8-4d4e-a4aa-00598bbe0271",
        "_uuid": "9f08972c3c9115abeb8602dce533401082260fab",
        "scrolled": true,
        "trusted": true
      },
      "cell_type": "code",
      "source": "len(test_data[test_data['predict'] == 1])",
      "execution_count": 7,
      "outputs": [
        {
          "output_type": "execute_result",
          "execution_count": 7,
          "data": {
            "text/plain": "42"
          },
          "metadata": {}
        }
      ]
    },
    {
      "metadata": {
        "_cell_guid": "9bec44e9-8c9e-40c1-868f-148b6c93192b",
        "_uuid": "634cfe4c58dba917ada1dfce068befa54896f0c2"
      },
      "cell_type": "markdown",
      "source": "And how many are **actually** like Steven Wilson?"
    },
    {
      "metadata": {
        "_cell_guid": "c9f78550-b37b-4d99-b6a4-063b4127155c",
        "_uuid": "4a4d9a82785bb9c2aada62527882b4528ba11440",
        "trusted": true
      },
      "cell_type": "code",
      "source": "len(test_data[test_data['class']== 1])",
      "execution_count": 8,
      "outputs": [
        {
          "output_type": "execute_result",
          "execution_count": 8,
          "data": {
            "text/plain": "28"
          },
          "metadata": {}
        }
      ]
    },
    {
      "metadata": {
        "_cell_guid": "e9c6c331-80dd-439e-9cd6-513ce38a45b2",
        "_uuid": "26b567fce06005dc271be413b1abfa2d957f290c"
      },
      "cell_type": "markdown",
      "source": "As you can see, there are some songs (14) that were classified to be like Steven Wilson, but aren't. The algorithm did a pretty good job at separating songs \"by genre\" (songs that are somewhat likely to sound like SW vs. songs that are **totally** different from SW), but it's hard to separate the songs *inside* the genre that Steven Wilson is in.\n\nA way to visualize the false positives vs. the true positives is using a [ROC Curve](https://en.wikipedia.org/wiki/Receiver_operating_characteristic). This is useful for testing the performance of a binary classifier like this."
    },
    {
      "metadata": {
        "_cell_guid": "247f26d0-a02b-493b-bf60-8ba7fcfe7603",
        "_uuid": "5dc0e03445f5dcb18984d5a3ca1cb4a1d45a89d8",
        "trusted": true
      },
      "cell_type": "code",
      "source": "from sklearn.metrics import roc_curve, auc\nimport matplotlib.pyplot as plt\n\nactual = test_data['class']\npredictions = test_data['prob1']\n\nfalse_positives, true_positives, threshold = roc_curve(actual, predictions)\narea_under_curve = auc(false_positives, true_positives)\n\n# plot\nplt.plot(false_positives, true_positives, 'b', label='AUC = %0.2f'% area_under_curve)\nplt.legend(loc='lower right')\nplt.plot([0,1], [0,1], 'r--')\nplt.ylabel('True Positive Rate')\nplt.xlabel('False Positive Rate')\nplt.show()",
      "execution_count": 9,
      "outputs": [
        {
          "output_type": "display_data",
          "data": {
            "text/plain": "<matplotlib.figure.Figure at 0x7f1b964865f8>",
            "image/png": "[encoded data removed]"
          },
          "metadata": {}
        }
      ]
    },
    {
      "metadata": {
        "_cell_guid": "4051ec3d-ee9d-49bf-8afa-a320dbdf6f24",
        "_uuid": "0cf93e33c00732e9d13964cd5673839f68c978e1"
      },
      "cell_type": "markdown",
      "source": "It appears that the classifier has a poor performance, because it *recommends* you songs that actually aren't like the positive class (in this case, songs similar to Steven Wilson). As of right now, it has an accuracy of ~~67%~~ 91% (it will go up as I add more training songs).\n\nFor context, here's what a perfect ROC curve looks like:\n![](https://i.imgur.com/xMZ3C1R.png)\n\nSee? No false positives! and the AUC (Area Under Curve) equals 1. That's what I'm aiming for, the first step is: add more data! "
    }
  ],
  "metadata": {
    "kernelspec": {
      "display_name": "Python 3",
      "language": "python",
      "name": "python3"
    },
    "language_info": {
      "name": "python",
      "version": "3.6.3",
      "mimetype": "text/x-python",
      "codemirror_mode": {
        "name": "ipython",
        "version": 3
      },
      "pygments_lexer": "ipython3",
      "nbconvert_exporter": "python",
      "file_extension": ".py"
    }
  },
  "nbformat": 4,
  "nbformat_minor": 1
}