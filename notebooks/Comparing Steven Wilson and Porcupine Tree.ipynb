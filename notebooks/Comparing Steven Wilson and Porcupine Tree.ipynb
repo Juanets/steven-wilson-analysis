{
  "cells": [
    {
      "metadata": {
        "_cell_guid": "c170a559-053c-44f3-8ebf-c580eab173cd",
        "_uuid": "67630004a083cfed0cfec09dc6448a0b0881023f",
        "collapsed": true,
        "trusted": true
      },
      "cell_type": "code",
      "source": "import pandas as pd\n\npd.options.display.max_rows = 200\n\ntrain_data = pd.read_csv('../input/Train.csv')\ntest_data = pd.read_csv('../input/Test.csv')",
      "execution_count": 1,
      "outputs": []
    },
    {
      "metadata": {
        "_cell_guid": "0cdaece3-10a5-4144-a32b-f4db205046e3",
        "_uuid": "a9c6460190f13cc57a735e3ef1ae70280bf685bc"
      },
      "cell_type": "markdown",
      "source": "First, let's remove unwanted features (like `id`, `track url`, `name`, etc). "
    },
    {
      "metadata": {
        "_cell_guid": "832b94b7-3810-41c5-a958-d53b08b09ba8",
        "_uuid": "f912469f09486837e5a8fab15c5c5bfb9a419712",
        "collapsed": true,
        "trusted": true
      },
      "cell_type": "code",
      "source": "ignore = (['analysis_url', \n           'id', \n           'track_href', \n           'uri', \n           'type', \n           'album', \n           'name', \n           'duration_ms',\n          ])\n\ntrain_data.drop(ignore, axis=1, inplace=True)\nclean_test_data = test_data.drop(ignore, axis=1)\n",
      "execution_count": 2,
      "outputs": []
    },
    {
      "metadata": {
        "_cell_guid": "38b8ace1-d838-4998-9827-f57ffcf0d03d",
        "_uuid": "c31c2bf4d1d0471483d2be9f83efa947693ef749"
      },
      "cell_type": "markdown",
      "source": "Now, assign classes. The training set is made up of 200 songs. 100 are Steven Wilson songs and the rest are totally different songs. So, the positive class is **1** and the negative class is **0**.\n\nYes, this should totally be in the csv ¯\\\\_(ツ)_/¯ (I'm gonna update it Soon™)."
    },
    {
      "metadata": {
        "_cell_guid": "3faf6dff-6cbc-4ebd-a560-866061be99d0",
        "_uuid": "fc21e8433544476ed92a32a3c630c806408a0b92",
        "collapsed": true,
        "trusted": true
      },
      "cell_type": "code",
      "source": "train_data.loc[:99, 'class'] = [1] * 100\ntrain_data.loc[100:200, 'class'] = [0] * 100",
      "execution_count": 3,
      "outputs": []
    },
    {
      "metadata": {
        "_cell_guid": "8459ffbd-f6c5-410e-b7a9-6cbec82f21e1",
        "_uuid": "56236c3c36e91b759460622ef8a9052e030c1eea"
      },
      "cell_type": "markdown",
      "source": "Now, the important part: **which features am I gonna use?** What features define Steven Wilson's style the best?\n  \nAfter trying many combinations, analyzing some [graphs](https://www.kaggle.com/danielgrijalvas/comparing-steven-wilson-and-porcupine-tree) and checking with the Test dataset (a playlist with songs that may or may not sound like SW), I came to the conclusion that the best features for this problem are:\n* Energy\n* Instrumentalness\n* Loudness\n* Acousticness\n* Valence  \n  \nHowever, using some statistical tools like a t-test, we can tell whether the features from class 1 are significantly different from class 2, and select those with higher significance. Using scikit-learn's `feature_selection` and `f_classif` (basically a t-test), the features with higher significance (or \"score\", according to [scikit-learn docs](http://scikit-learn.org/stable/modules/generated/sklearn.feature_selection.SelectKBest.html)) are:\n* Danceability\n* Instrumentalness\n* Loudness\n* Speechiness\n* Valence  \n  \nSee, I *almost* got it right. `SelectKBest` chose `Danceability` instead of `Energy`, and `Speechiness` instead of `Acousticness`. I understand that the data from `Energy` is very spread out and that's why it got a low score/significance; but `Speechiness`...? That seems weird."
    },
    {
      "metadata": {
        "_cell_guid": "3a2fe40c-c7f7-425a-887b-7410a90d5171",
        "_uuid": "3564707372c1be41d9a2a609a935df65825ef0f3",
        "trusted": true
      },
      "cell_type": "code",
      "source": "from sklearn.feature_selection import SelectKBest\n\nfeatures = SelectKBest(k=5)\nfeatures.fit(train_data.loc[:, train_data.columns != 'class'], train_data['class'])\n\ncols = list(train_data.columns[features.get_support(1)])\ncols",
      "execution_count": 4,
      "outputs": [
        {
          "output_type": "execute_result",
          "execution_count": 4,
          "data": {
            "text/plain": "['danceability', 'instrumentalness', 'loudness', 'speechiness', 'valence']"
          },
          "metadata": {}
        }
      ]
    },
    {
      "metadata": {
        "_cell_guid": "cf5f5bbe-ebb7-4bd3-a4da-761e997bc4fa",
        "_uuid": "f8f746d69197a44b873630822b4e5fee3fbd392b"
      },
      "cell_type": "markdown",
      "source": "Now, let's train the machine learning algorithm, K-Nearest Neighbors. I'm leaving K as the default (5), but maybe later I'll try with higher values.  \n\nAlso, I'm adding some weights with `distance`, that way, the closer neighbors will have *even more* influence over the classifications -- but honestly I don't really know how that works, so I'll probably change that to `uniform` weights."
    },
    {
      "metadata": {
        "_kg_hide-output": true,
        "_cell_guid": "2a39df8d-d235-44a4-90b3-975882210194",
        "_uuid": "f2e4dfe16d21a97686f112e3290c8c1c964acaee",
        "trusted": true
      },
      "cell_type": "code",
      "source": "from sklearn.cluster import KMeans\nfrom sklearn.metrics import accuracy_score\nfrom sklearn.neighbors import KNeighborsClassifier as knn\n\n# train KNN with training data \nkn = knn(weights='distance', p=2)\nkn.fit(train_data[cols], train_data['class'])",
      "execution_count": 5,
      "outputs": [
        {
          "output_type": "execute_result",
          "execution_count": 5,
          "data": {
            "text/plain": "KNeighborsClassifier(algorithm='auto', leaf_size=30, metric='minkowski',\n           metric_params=None, n_jobs=1, n_neighbors=5, p=2,\n           weights='distance')"
          },
          "metadata": {}
        }
      ]
    },
    {
      "metadata": {
        "_cell_guid": "aa1d7be0-96fc-41ec-a191-d3fdd03a9501",
        "_uuid": "93320b87420981d3203599fe854b1f2762f49f35"
      },
      "cell_type": "markdown",
      "source": "The algorithm is trained. Let's use what it learned to classify a playlist (`Test.csv`, a playlist with 100 songs that may or may not fit well between Steven Wilson songs). Also I'll add the predicted value and probabilites to the `Test` dataset."
    },
    {
      "metadata": {
        "_cell_guid": "3e35da45-238d-43e1-bbc4-9caafd3c9309",
        "_uuid": "2ac08ab894fa4e81eebe061b7fb741eb49f6b6fa",
        "collapsed": true,
        "trusted": true
      },
      "cell_type": "code",
      "source": "# classify/predict class of test songs\npredictions = kn.predict(clean_test_data[cols])\ntest_data['predict'] = predictions\n\n# probability that a song is 0/1\ntest_prob = kn.predict_proba(clean_test_data[cols])\nprob0 = [p[0] for p in test_prob]\nprob1 = [p[1] for p in test_prob]\ntest_data['prob0'] = prob0\ntest_data['prob1'] = prob1",
      "execution_count": 6,
      "outputs": []
    },
    {
      "metadata": {
        "_cell_guid": "b08b2967-a7e3-44ce-a2c6-87009d996b34",
        "_uuid": "350923358972464130907ec96d45ecfd540e884a"
      },
      "cell_type": "markdown",
      "source": "## Results\nLet's check the results. If you want to check them yourself, give [Steven Wilson](https://open.spotify.com/artist/4X42BfuhWCAZ2swiVze9O0)/[Porcupine Tree](https://open.spotify.com/artist/5NXHXK6hOCotCF8lvGM1I0) a listen and then head over to the [Test playlist](https://open.spotify.com/user/jdgs.gt/playlist/6wCTUaDlzdzrqMUzkCd9Zx) and listen to the songs where `prob1` is 1 to check similarities. Or listen to the songs where `prob0` is 1, and you'll see the huge differences of musical style.\n\n **UPDATE**: I added the songs with > 80% probability of being **1**  (similar to Steven Wilson) to [this playlist](https://open.spotify.com/user/jdgs.gt/playlist/0D7EWUrrBuza4H8SuzDqyI). It's just 35 songs long, but the results are really good. "
    },
    {
      "metadata": {
        "_uuid": "b424a11cf244bd06a33b21c988bc97f06ea877f3",
        "scrolled": true,
        "_kg_hide-output": false,
        "_cell_guid": "17d7272f-aa11-4c22-b5b0-626a45677902",
        "_kg_hide-input": false,
        "trusted": true
      },
      "cell_type": "code",
      "source": "test_data[['name','predict', 'prob0', 'prob1']]",
      "execution_count": 7,
      "outputs": [
        {
          "output_type": "execute_result",
          "execution_count": 7,
          "data": {
            "text/plain": "                                                 name  predict     prob0  \\\n0                                             Animals      0.0  0.575349   \n1                               The Closest I've Come      1.0  0.000000   \n2                                           Coma Pony      0.0  0.811810   \n3                                                Doce      1.0  0.350808   \n4                                    The End Is Begun      0.0  1.000000   \n5                                         (Go) Get It      1.0  0.435726   \n6                                        Heartbreaker      1.0  0.334085   \n7                                   The Invisible Man      1.0  0.000000   \n8                                    Kodokunohatsumei      1.0  0.000000   \n9                                          The Lesson      1.0  0.195803   \n10                                               Love      1.0  0.181992   \n11                             The Moments In Between      0.0  0.823042   \n12                                               Ótta      0.0  0.564454   \n13                                   Perpetual Oyster      1.0  0.199114   \n14                                       Retrovertigo      1.0  0.000000   \n15                                            Shalala      0.0  0.847383   \n16                                              Slant      1.0  0.000000   \n17                                        Sleep Apnea      1.0  0.100703   \n18                             Some Time Alone, Alone      0.0  1.000000   \n19               Soothsayer (dedicated to Aunt Suzie)      1.0  0.155274   \n20                               Space To Bakersfield      1.0  0.149946   \n21                                  Strong Reflection      1.0  0.168237   \n22                             Swung From the Gutters      0.0  0.540485   \n23                                       Venice Queen      0.0  0.672855   \n24                                           You Lied      1.0  0.000000   \n25            Roundabout - Remastered Early Rough Mix      1.0  0.179116   \n26                                                YYZ      1.0  0.000000   \n27                                        The Numbers      1.0  0.171513   \n28                     Then Came the Last Days of May      1.0  0.000000   \n29             Firth Of Fifth - 2008 Digital Remaster      1.0  0.331311   \n30                                       On An Island      1.0  0.197485   \n31                                       Have a Cigar      0.0  0.816990   \n32                                           Air Born      1.0  0.000000   \n33  La Villa Strangiato - An Exercise In Self-Indu...      1.0  0.000000   \n34                 South Side Of The Sky - Remastered      1.0  0.000000   \n35                         Since I've Been Loving You      1.0  0.185543   \n36                    El Dorado (i) Long-Shadowed Sun      0.0  1.000000   \n37                       Dancing Right In Front of Me      1.0  0.193059   \n38               Dunkirk - Instrumental Album Version      1.0  0.428179   \n39           Planet Caravan - 2009 Remastered Version      0.0  0.819664   \n40                                                TNT      1.0  0.168474   \n41                                   Ten-Day Interval      1.0  0.000000   \n42                      I Set My Face to the Hillside      1.0  0.171797   \n43                                        The Equator      0.0  0.608348   \n44  A Simple Way to Go Faster Than Light That Does...      0.0  0.602288   \n45              The Suspension Bridge at Iguazú Falls      1.0  0.217010   \n46                                  Four-Day Interval      0.0  0.588515   \n47  In Sarah, Mencken, Christ, and Beethoven There...      1.0  0.400755   \n48                                              Jetty      0.0  0.616639   \n49                                          Everglade      0.0  0.661932   \n50                                     From the Flame      0.0  0.811033   \n51                                        Atlas Stone      1.0  0.437836   \n52                                           In Exile      1.0  0.000000   \n53                                 Uncomfortably Numb      0.0  0.599264   \n54                                 Black Paper Planes      1.0  0.000000   \n55                                Gimme All Your Love      1.0  0.165400   \n56                          Surfing The Warm Industry      1.0  0.000000   \n57                Barren Lands of the Modern Dinosaur      1.0  0.000000   \n58                                         Inside Out      0.0  0.852599   \n59                             Time (Better Not Stop)      0.0  0.542228   \n60                              Wakin on a Pretty Day      1.0  0.432815   \n61                                     Nostalgic Feel      0.0  0.594557   \n62                                          Fireworks      0.0  1.000000   \n63                                             Nausea      1.0  0.000000   \n64                                           H. Roark      0.0  0.695570   \n65                                     Help I'm Alive      0.0  0.697872   \n66                                       Hey Cool Kid      0.0  0.568030   \n67                                     Ontario Gothic      1.0  0.000000   \n68                                          Desperate      0.0  0.848200   \n69                A Love Supreme, Pt. III - Pursuance      0.0  0.662665   \n70                                          Nuttville      0.0  0.628479   \n71                                               Wise      0.0  0.573528   \n72                                   Challenge Within      0.0  0.807213   \n73                                        First Light      0.0  0.804050   \n74                                Thunderbirds Are Go      0.0  0.594252   \n75                                       Chrome Waves      0.0  0.873449   \n76                      Never Be Like You (feat. Kai)      0.0  1.000000   \n77                                      Again & Again      1.0  0.439873   \n78                                     Hello Stranger      0.0  1.000000   \n79                      I Am A Man Of Constant Sorrow      0.0  1.000000   \n80                                      I Feel It All      0.0  1.000000   \n81                                        Grey Street      0.0  0.842197   \n82                                     Fun In The Sun      0.0  1.000000   \n83               And the Swallows Dance Above the Sun      0.0  0.568751   \n84                              The Nostalgia Factory      1.0  0.210893   \n85                              Voyage 34 (Phase One)      1.0  0.164311   \n86                     Synesthesia (Extended Version)      1.0  0.237206   \n87                                           Phantoms      1.0  0.156036   \n88                                   Up the Downstair      1.0  0.411314   \n89                                           Fadeaway      1.0  0.244696   \n90                                          Stars Die      0.0  0.634392   \n91                 The Sky Moves Sideways (Phase One)      1.0  0.127923   \n92                                        Men of Wood      1.0  0.214108   \n93                                            Waiting      1.0  0.225237   \n94                      The Sound of No-One Listening      1.0  0.211618   \n95                                 Colourflow in Mind      1.0  0.122389   \n96                                         Signify II      1.0  0.157124   \n97                                Every Home Is Wired      1.0  0.207791   \n98                                              Sever      1.0  0.221390   \n99                                        Dark Matter      1.0  0.138832   \n\n       prob1  \n0   0.424651  \n1   1.000000  \n2   0.188190  \n3   0.649192  \n4   0.000000  \n5   0.564274  \n6   0.665915  \n7   1.000000  \n8   1.000000  \n9   0.804197  \n10  0.818008  \n11  0.176958  \n12  0.435546  \n13  0.800886  \n14  1.000000  \n15  0.152617  \n16  1.000000  \n17  0.899297  \n18  0.000000  \n19  0.844726  \n20  0.850054  \n21  0.831763  \n22  0.459515  \n23  0.327145  \n24  1.000000  \n25  0.820884  \n26  1.000000  \n27  0.828487  \n28  1.000000  \n29  0.668689  \n30  0.802515  \n31  0.183010  \n32  1.000000  \n33  1.000000  \n34  1.000000  \n35  0.814457  \n36  0.000000  \n37  0.806941  \n38  0.571821  \n39  0.180336  \n40  0.831526  \n41  1.000000  \n42  0.828203  \n43  0.391652  \n44  0.397712  \n45  0.782990  \n46  0.411485  \n47  0.599245  \n48  0.383361  \n49  0.338068  \n50  0.188967  \n51  0.562164  \n52  1.000000  \n53  0.400736  \n54  1.000000  \n55  0.834600  \n56  1.000000  \n57  1.000000  \n58  0.147401  \n59  0.457772  \n60  0.567185  \n61  0.405443  \n62  0.000000  \n63  1.000000  \n64  0.304430  \n65  0.302128  \n66  0.431970  \n67  1.000000  \n68  0.151800  \n69  0.337335  \n70  0.371521  \n71  0.426472  \n72  0.192787  \n73  0.195950  \n74  0.405748  \n75  0.126551  \n76  0.000000  \n77  0.560127  \n78  0.000000  \n79  0.000000  \n80  0.000000  \n81  0.157803  \n82  0.000000  \n83  0.431249  \n84  0.789107  \n85  0.835689  \n86  0.762794  \n87  0.843964  \n88  0.588686  \n89  0.755304  \n90  0.365608  \n91  0.872077  \n92  0.785892  \n93  0.774763  \n94  0.788382  \n95  0.877611  \n96  0.842876  \n97  0.792209  \n98  0.778610  \n99  0.861168  ",
            "text/html": "<div>\n<style scoped>\n    .dataframe tbody tr th:only-of-type {\n        vertical-align: middle;\n    }\n\n    .dataframe tbody tr th {\n        vertical-align: top;\n    }\n\n    .dataframe thead th {\n        text-align: right;\n    }\n</style>\n<table border=\"1\" class=\"dataframe\">\n  <thead>\n    <tr style=\"text-align: right;\">\n      <th></th>\n      <th>name</th>\n      <th>predict</th>\n      <th>prob0</th>\n      <th>prob1</th>\n    </tr>\n  </thead>\n  <tbody>\n    <tr>\n      <th>0</th>\n      <td>Animals</td>\n      <td>0.0</td>\n      <td>0.575349</td>\n      <td>0.424651</td>\n    </tr>\n    <tr>\n      <th>1</th>\n      <td>The Closest I've Come</td>\n      <td>1.0</td>\n      <td>0.000000</td>\n      <td>1.000000</td>\n    </tr>\n    <tr>\n      <th>2</th>\n      <td>Coma Pony</td>\n      <td>0.0</td>\n      <td>0.811810</td>\n      <td>0.188190</td>\n    </tr>\n    <tr>\n      <th>3</th>\n      <td>Doce</td>\n      <td>1.0</td>\n      <td>0.350808</td>\n      <td>0.649192</td>\n    </tr>\n    <tr>\n      <th>4</th>\n      <td>The End Is Begun</td>\n      <td>0.0</td>\n      <td>1.000000</td>\n      <td>0.000000</td>\n    </tr>\n    <tr>\n      <th>5</th>\n      <td>(Go) Get It</td>\n      <td>1.0</td>\n      <td>0.435726</td>\n      <td>0.564274</td>\n    </tr>\n    <tr>\n      <th>6</th>\n      <td>Heartbreaker</td>\n      <td>1.0</td>\n      <td>0.334085</td>\n      <td>0.665915</td>\n    </tr>\n    <tr>\n      <th>7</th>\n      <td>The Invisible Man</td>\n      <td>1.0</td>\n      <td>0.000000</td>\n      <td>1.000000</td>\n    </tr>\n    <tr>\n      <th>8</th>\n      <td>Kodokunohatsumei</td>\n      <td>1.0</td>\n      <td>0.000000</td>\n      <td>1.000000</td>\n    </tr>\n    <tr>\n      <th>9</th>\n      <td>The Lesson</td>\n      <td>1.0</td>\n      <td>0.195803</td>\n      <td>0.804197</td>\n    </tr>\n    <tr>\n      <th>10</th>\n      <td>Love</td>\n      <td>1.0</td>\n      <td>0.181992</td>\n      <td>0.818008</td>\n    </tr>\n    <tr>\n      <th>11</th>\n      <td>The Moments In Between</td>\n      <td>0.0</td>\n      <td>0.823042</td>\n      <td>0.176958</td>\n    </tr>\n    <tr>\n      <th>12</th>\n      <td>Ótta</td>\n      <td>0.0</td>\n      <td>0.564454</td>\n      <td>0.435546</td>\n    </tr>\n    <tr>\n      <th>13</th>\n      <td>Perpetual Oyster</td>\n      <td>1.0</td>\n      <td>0.199114</td>\n      <td>0.800886</td>\n    </tr>\n    <tr>\n      <th>14</th>\n      <td>Retrovertigo</td>\n      <td>1.0</td>\n      <td>0.000000</td>\n      <td>1.000000</td>\n    </tr>\n    <tr>\n      <th>15</th>\n      <td>Shalala</td>\n      <td>0.0</td>\n      <td>0.847383</td>\n      <td>0.152617</td>\n    </tr>\n    <tr>\n      <th>16</th>\n      <td>Slant</td>\n      <td>1.0</td>\n      <td>0.000000</td>\n      <td>1.000000</td>\n    </tr>\n    <tr>\n      <th>17</th>\n      <td>Sleep Apnea</td>\n      <td>1.0</td>\n      <td>0.100703</td>\n      <td>0.899297</td>\n    </tr>\n    <tr>\n      <th>18</th>\n      <td>Some Time Alone, Alone</td>\n      <td>0.0</td>\n      <td>1.000000</td>\n      <td>0.000000</td>\n    </tr>\n    <tr>\n      <th>19</th>\n      <td>Soothsayer (dedicated to Aunt Suzie)</td>\n      <td>1.0</td>\n      <td>0.155274</td>\n      <td>0.844726</td>\n    </tr>\n    <tr>\n      <th>20</th>\n      <td>Space To Bakersfield</td>\n      <td>1.0</td>\n      <td>0.149946</td>\n      <td>0.850054</td>\n    </tr>\n    <tr>\n      <th>21</th>\n      <td>Strong Reflection</td>\n      <td>1.0</td>\n      <td>0.168237</td>\n      <td>0.831763</td>\n    </tr>\n    <tr>\n      <th>22</th>\n      <td>Swung From the Gutters</td>\n      <td>0.0</td>\n      <td>0.540485</td>\n      <td>0.459515</td>\n    </tr>\n    <tr>\n      <th>23</th>\n      <td>Venice Queen</td>\n      <td>0.0</td>\n      <td>0.672855</td>\n      <td>0.327145</td>\n    </tr>\n    <tr>\n      <th>24</th>\n      <td>You Lied</td>\n      <td>1.0</td>\n      <td>0.000000</td>\n      <td>1.000000</td>\n    </tr>\n    <tr>\n      <th>25</th>\n      <td>Roundabout - Remastered Early Rough Mix</td>\n      <td>1.0</td>\n      <td>0.179116</td>\n      <td>0.820884</td>\n    </tr>\n    <tr>\n      <th>26</th>\n      <td>YYZ</td>\n      <td>1.0</td>\n      <td>0.000000</td>\n      <td>1.000000</td>\n    </tr>\n    <tr>\n      <th>27</th>\n      <td>The Numbers</td>\n      <td>1.0</td>\n      <td>0.171513</td>\n      <td>0.828487</td>\n    </tr>\n    <tr>\n      <th>28</th>\n      <td>Then Came the Last Days of May</td>\n      <td>1.0</td>\n      <td>0.000000</td>\n      <td>1.000000</td>\n    </tr>\n    <tr>\n      <th>29</th>\n      <td>Firth Of Fifth - 2008 Digital Remaster</td>\n      <td>1.0</td>\n      <td>0.331311</td>\n      <td>0.668689</td>\n    </tr>\n    <tr>\n      <th>30</th>\n      <td>On An Island</td>\n      <td>1.0</td>\n      <td>0.197485</td>\n      <td>0.802515</td>\n    </tr>\n    <tr>\n      <th>31</th>\n      <td>Have a Cigar</td>\n      <td>0.0</td>\n      <td>0.816990</td>\n      <td>0.183010</td>\n    </tr>\n    <tr>\n      <th>32</th>\n      <td>Air Born</td>\n      <td>1.0</td>\n      <td>0.000000</td>\n      <td>1.000000</td>\n    </tr>\n    <tr>\n      <th>33</th>\n      <td>La Villa Strangiato - An Exercise In Self-Indu...</td>\n      <td>1.0</td>\n      <td>0.000000</td>\n      <td>1.000000</td>\n    </tr>\n    <tr>\n      <th>34</th>\n      <td>South Side Of The Sky - Remastered</td>\n      <td>1.0</td>\n      <td>0.000000</td>\n      <td>1.000000</td>\n    </tr>\n    <tr>\n      <th>35</th>\n      <td>Since I've Been Loving You</td>\n      <td>1.0</td>\n      <td>0.185543</td>\n      <td>0.814457</td>\n    </tr>\n    <tr>\n      <th>36</th>\n      <td>El Dorado (i) Long-Shadowed Sun</td>\n      <td>0.0</td>\n      <td>1.000000</td>\n      <td>0.000000</td>\n    </tr>\n    <tr>\n      <th>37</th>\n      <td>Dancing Right In Front of Me</td>\n      <td>1.0</td>\n      <td>0.193059</td>\n      <td>0.806941</td>\n    </tr>\n    <tr>\n      <th>38</th>\n      <td>Dunkirk - Instrumental Album Version</td>\n      <td>1.0</td>\n      <td>0.428179</td>\n      <td>0.571821</td>\n    </tr>\n    <tr>\n      <th>39</th>\n      <td>Planet Caravan - 2009 Remastered Version</td>\n      <td>0.0</td>\n      <td>0.819664</td>\n      <td>0.180336</td>\n    </tr>\n    <tr>\n      <th>40</th>\n      <td>TNT</td>\n      <td>1.0</td>\n      <td>0.168474</td>\n      <td>0.831526</td>\n    </tr>\n    <tr>\n      <th>41</th>\n      <td>Ten-Day Interval</td>\n      <td>1.0</td>\n      <td>0.000000</td>\n      <td>1.000000</td>\n    </tr>\n    <tr>\n      <th>42</th>\n      <td>I Set My Face to the Hillside</td>\n      <td>1.0</td>\n      <td>0.171797</td>\n      <td>0.828203</td>\n    </tr>\n    <tr>\n      <th>43</th>\n      <td>The Equator</td>\n      <td>0.0</td>\n      <td>0.608348</td>\n      <td>0.391652</td>\n    </tr>\n    <tr>\n      <th>44</th>\n      <td>A Simple Way to Go Faster Than Light That Does...</td>\n      <td>0.0</td>\n      <td>0.602288</td>\n      <td>0.397712</td>\n    </tr>\n    <tr>\n      <th>45</th>\n      <td>The Suspension Bridge at Iguazú Falls</td>\n      <td>1.0</td>\n      <td>0.217010</td>\n      <td>0.782990</td>\n    </tr>\n    <tr>\n      <th>46</th>\n      <td>Four-Day Interval</td>\n      <td>0.0</td>\n      <td>0.588515</td>\n      <td>0.411485</td>\n    </tr>\n    <tr>\n      <th>47</th>\n      <td>In Sarah, Mencken, Christ, and Beethoven There...</td>\n      <td>1.0</td>\n      <td>0.400755</td>\n      <td>0.599245</td>\n    </tr>\n    <tr>\n      <th>48</th>\n      <td>Jetty</td>\n      <td>0.0</td>\n      <td>0.616639</td>\n      <td>0.383361</td>\n    </tr>\n    <tr>\n      <th>49</th>\n      <td>Everglade</td>\n      <td>0.0</td>\n      <td>0.661932</td>\n      <td>0.338068</td>\n    </tr>\n    <tr>\n      <th>50</th>\n      <td>From the Flame</td>\n      <td>0.0</td>\n      <td>0.811033</td>\n      <td>0.188967</td>\n    </tr>\n    <tr>\n      <th>51</th>\n      <td>Atlas Stone</td>\n      <td>1.0</td>\n      <td>0.437836</td>\n      <td>0.562164</td>\n    </tr>\n    <tr>\n      <th>52</th>\n      <td>In Exile</td>\n      <td>1.0</td>\n      <td>0.000000</td>\n      <td>1.000000</td>\n    </tr>\n    <tr>\n      <th>53</th>\n      <td>Uncomfortably Numb</td>\n      <td>0.0</td>\n      <td>0.599264</td>\n      <td>0.400736</td>\n    </tr>\n    <tr>\n      <th>54</th>\n      <td>Black Paper Planes</td>\n      <td>1.0</td>\n      <td>0.000000</td>\n      <td>1.000000</td>\n    </tr>\n    <tr>\n      <th>55</th>\n      <td>Gimme All Your Love</td>\n      <td>1.0</td>\n      <td>0.165400</td>\n      <td>0.834600</td>\n    </tr>\n    <tr>\n      <th>56</th>\n      <td>Surfing The Warm Industry</td>\n      <td>1.0</td>\n      <td>0.000000</td>\n      <td>1.000000</td>\n    </tr>\n    <tr>\n      <th>57</th>\n      <td>Barren Lands of the Modern Dinosaur</td>\n      <td>1.0</td>\n      <td>0.000000</td>\n      <td>1.000000</td>\n    </tr>\n    <tr>\n      <th>58</th>\n      <td>Inside Out</td>\n      <td>0.0</td>\n      <td>0.852599</td>\n      <td>0.147401</td>\n    </tr>\n    <tr>\n      <th>59</th>\n      <td>Time (Better Not Stop)</td>\n      <td>0.0</td>\n      <td>0.542228</td>\n      <td>0.457772</td>\n    </tr>\n    <tr>\n      <th>60</th>\n      <td>Wakin on a Pretty Day</td>\n      <td>1.0</td>\n      <td>0.432815</td>\n      <td>0.567185</td>\n    </tr>\n    <tr>\n      <th>61</th>\n      <td>Nostalgic Feel</td>\n      <td>0.0</td>\n      <td>0.594557</td>\n      <td>0.405443</td>\n    </tr>\n    <tr>\n      <th>62</th>\n      <td>Fireworks</td>\n      <td>0.0</td>\n      <td>1.000000</td>\n      <td>0.000000</td>\n    </tr>\n    <tr>\n      <th>63</th>\n      <td>Nausea</td>\n      <td>1.0</td>\n      <td>0.000000</td>\n      <td>1.000000</td>\n    </tr>\n    <tr>\n      <th>64</th>\n      <td>H. Roark</td>\n      <td>0.0</td>\n      <td>0.695570</td>\n      <td>0.304430</td>\n    </tr>\n    <tr>\n      <th>65</th>\n      <td>Help I'm Alive</td>\n      <td>0.0</td>\n      <td>0.697872</td>\n      <td>0.302128</td>\n    </tr>\n    <tr>\n      <th>66</th>\n      <td>Hey Cool Kid</td>\n      <td>0.0</td>\n      <td>0.568030</td>\n      <td>0.431970</td>\n    </tr>\n    <tr>\n      <th>67</th>\n      <td>Ontario Gothic</td>\n      <td>1.0</td>\n      <td>0.000000</td>\n      <td>1.000000</td>\n    </tr>\n    <tr>\n      <th>68</th>\n      <td>Desperate</td>\n      <td>0.0</td>\n      <td>0.848200</td>\n      <td>0.151800</td>\n    </tr>\n    <tr>\n      <th>69</th>\n      <td>A Love Supreme, Pt. III - Pursuance</td>\n      <td>0.0</td>\n      <td>0.662665</td>\n      <td>0.337335</td>\n    </tr>\n    <tr>\n      <th>70</th>\n      <td>Nuttville</td>\n      <td>0.0</td>\n      <td>0.628479</td>\n      <td>0.371521</td>\n    </tr>\n    <tr>\n      <th>71</th>\n      <td>Wise</td>\n      <td>0.0</td>\n      <td>0.573528</td>\n      <td>0.426472</td>\n    </tr>\n    <tr>\n      <th>72</th>\n      <td>Challenge Within</td>\n      <td>0.0</td>\n      <td>0.807213</td>\n      <td>0.192787</td>\n    </tr>\n    <tr>\n      <th>73</th>\n      <td>First Light</td>\n      <td>0.0</td>\n      <td>0.804050</td>\n      <td>0.195950</td>\n    </tr>\n    <tr>\n      <th>74</th>\n      <td>Thunderbirds Are Go</td>\n      <td>0.0</td>\n      <td>0.594252</td>\n      <td>0.405748</td>\n    </tr>\n    <tr>\n      <th>75</th>\n      <td>Chrome Waves</td>\n      <td>0.0</td>\n      <td>0.873449</td>\n      <td>0.126551</td>\n    </tr>\n    <tr>\n      <th>76</th>\n      <td>Never Be Like You (feat. Kai)</td>\n      <td>0.0</td>\n      <td>1.000000</td>\n      <td>0.000000</td>\n    </tr>\n    <tr>\n      <th>77</th>\n      <td>Again &amp; Again</td>\n      <td>1.0</td>\n      <td>0.439873</td>\n      <td>0.560127</td>\n    </tr>\n    <tr>\n      <th>78</th>\n      <td>Hello Stranger</td>\n      <td>0.0</td>\n      <td>1.000000</td>\n      <td>0.000000</td>\n    </tr>\n    <tr>\n      <th>79</th>\n      <td>I Am A Man Of Constant Sorrow</td>\n      <td>0.0</td>\n      <td>1.000000</td>\n      <td>0.000000</td>\n    </tr>\n    <tr>\n      <th>80</th>\n      <td>I Feel It All</td>\n      <td>0.0</td>\n      <td>1.000000</td>\n      <td>0.000000</td>\n    </tr>\n    <tr>\n      <th>81</th>\n      <td>Grey Street</td>\n      <td>0.0</td>\n      <td>0.842197</td>\n      <td>0.157803</td>\n    </tr>\n    <tr>\n      <th>82</th>\n      <td>Fun In The Sun</td>\n      <td>0.0</td>\n      <td>1.000000</td>\n      <td>0.000000</td>\n    </tr>\n    <tr>\n      <th>83</th>\n      <td>And the Swallows Dance Above the Sun</td>\n      <td>0.0</td>\n      <td>0.568751</td>\n      <td>0.431249</td>\n    </tr>\n    <tr>\n      <th>84</th>\n      <td>The Nostalgia Factory</td>\n      <td>1.0</td>\n      <td>0.210893</td>\n      <td>0.789107</td>\n    </tr>\n    <tr>\n      <th>85</th>\n      <td>Voyage 34 (Phase One)</td>\n      <td>1.0</td>\n      <td>0.164311</td>\n      <td>0.835689</td>\n    </tr>\n    <tr>\n      <th>86</th>\n      <td>Synesthesia (Extended Version)</td>\n      <td>1.0</td>\n      <td>0.237206</td>\n      <td>0.762794</td>\n    </tr>\n    <tr>\n      <th>87</th>\n      <td>Phantoms</td>\n      <td>1.0</td>\n      <td>0.156036</td>\n      <td>0.843964</td>\n    </tr>\n    <tr>\n      <th>88</th>\n      <td>Up the Downstair</td>\n      <td>1.0</td>\n      <td>0.411314</td>\n      <td>0.588686</td>\n    </tr>\n    <tr>\n      <th>89</th>\n      <td>Fadeaway</td>\n      <td>1.0</td>\n      <td>0.244696</td>\n      <td>0.755304</td>\n    </tr>\n    <tr>\n      <th>90</th>\n      <td>Stars Die</td>\n      <td>0.0</td>\n      <td>0.634392</td>\n      <td>0.365608</td>\n    </tr>\n    <tr>\n      <th>91</th>\n      <td>The Sky Moves Sideways (Phase One)</td>\n      <td>1.0</td>\n      <td>0.127923</td>\n      <td>0.872077</td>\n    </tr>\n    <tr>\n      <th>92</th>\n      <td>Men of Wood</td>\n      <td>1.0</td>\n      <td>0.214108</td>\n      <td>0.785892</td>\n    </tr>\n    <tr>\n      <th>93</th>\n      <td>Waiting</td>\n      <td>1.0</td>\n      <td>0.225237</td>\n      <td>0.774763</td>\n    </tr>\n    <tr>\n      <th>94</th>\n      <td>The Sound of No-One Listening</td>\n      <td>1.0</td>\n      <td>0.211618</td>\n      <td>0.788382</td>\n    </tr>\n    <tr>\n      <th>95</th>\n      <td>Colourflow in Mind</td>\n      <td>1.0</td>\n      <td>0.122389</td>\n      <td>0.877611</td>\n    </tr>\n    <tr>\n      <th>96</th>\n      <td>Signify II</td>\n      <td>1.0</td>\n      <td>0.157124</td>\n      <td>0.842876</td>\n    </tr>\n    <tr>\n      <th>97</th>\n      <td>Every Home Is Wired</td>\n      <td>1.0</td>\n      <td>0.207791</td>\n      <td>0.792209</td>\n    </tr>\n    <tr>\n      <th>98</th>\n      <td>Sever</td>\n      <td>1.0</td>\n      <td>0.221390</td>\n      <td>0.778610</td>\n    </tr>\n    <tr>\n      <th>99</th>\n      <td>Dark Matter</td>\n      <td>1.0</td>\n      <td>0.138832</td>\n      <td>0.861168</td>\n    </tr>\n  </tbody>\n</table>\n</div>"
          },
          "metadata": {}
        }
      ]
    },
    {
      "metadata": {
        "_cell_guid": "f6b81974-a6c2-4f8b-84e8-b729e23d9ab2",
        "_uuid": "2d2d3b93b899a699b27b01f7bfb2314d52c15b8b"
      },
      "cell_type": "markdown",
      "source": "## Conclusion\nIn my opinion, the algorithm did an excellent job. But in a problem like this, the accuracy is a little subjective, right?"
    }
  ],
  "metadata": {
    "kernelspec": {
      "display_name": "Python 3",
      "language": "python",
      "name": "python3"
    },
    "language_info": {
      "name": "python",
      "version": "3.6.3",
      "mimetype": "text/x-python",
      "codemirror_mode": {
        "name": "ipython",
        "version": 3
      },
      "pygments_lexer": "ipython3",
      "nbconvert_exporter": "python",
      "file_extension": ".py"
    }
  },
  "nbformat": 4,
  "nbformat_minor": 1
}