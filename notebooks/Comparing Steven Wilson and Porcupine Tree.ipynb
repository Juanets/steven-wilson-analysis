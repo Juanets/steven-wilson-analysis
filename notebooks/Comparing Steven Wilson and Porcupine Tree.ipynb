{
  "cells": [
    {
      "metadata": {
        "scrolled": true,
        "_uuid": "65c914bac4b79e4a8b86bbd161030efe84d16786",
        "_cell_guid": "30a1e2a3-b20e-4334-bc24-ead09d165447",
        "trusted": false,
        "collapsed": true
      },
      "cell_type": "code",
      "source": "import pandas as pd\nimport matplotlib.pyplot as plt\nimport seaborn as sns \n\nsw = pd.read_csv('../input/Steven Wilson.csv') # Steven Wilson\npt = pd.read_csv('../input/Porcupine Tree.csv', nrows=len(sw)) # Porcupine Tree\n\n# remove useless columns \nignore = ['analysis_url', 'id', 'track_href', 'uri', 'type', 'album', 'name', 'artist']\nsw.drop(ignore, axis=1, inplace=True)\npt.drop(ignore, axis=1, inplace=True)\n\nsw.describe()",
      "execution_count": null,
      "outputs": []
    },
    {
      "metadata": {
        "collapsed": true,
        "_uuid": "4e05184403a8d08693405fc67203d27eb52cb9a1",
        "_cell_guid": "61013891-5681-4339-aeea-8303820abdfa",
        "trusted": false
      },
      "cell_type": "code",
      "source": "# custom color palette \nred_blue = ['#19B5FE', '#EF4836']\npalette = sns.color_palette(red_blue)\nsns.set_palette(palette)",
      "execution_count": null,
      "outputs": []
    },
    {
      "metadata": {
        "scrolled": false,
        "_uuid": "761232590122513e713157743c737448dd084fa4",
        "_cell_guid": "26257f43-9784-4f7f-b3a1-c580a8c72fa1",
        "trusted": false,
        "collapsed": true
      },
      "cell_type": "code",
      "source": "# let's compare the songs of SW and PT using histograms\nfig = plt.figure(figsize=(15,15))\n\nfor i, feature in enumerate(sw):\n    ax = plt.subplot(4,4,i+1)\n    ax.set_title(feature)\n    sw[feature].hist(alpha=0.7, label='Steven Wilson')\n    pt[feature].hist(alpha=0.7, label='Porcupine Tree')\n    \nplt.legend(loc='upper right')",
      "execution_count": null,
      "outputs": []
    },
    {
      "metadata": {
        "_uuid": "c75b895f11e165f5684854f50f3eddb1e7b7bc46",
        "_cell_guid": "baaa640b-91a1-4ec2-a23d-b40587a72727"
      },
      "cell_type": "markdown",
      "source": "For full documentation on these features, go [here](https://developer.spotify.com/web-api/get-audio-features/).  \n  \nThe reason I compared these two artists is because Steven Wilson used to be a member of Porcupine Tree, but he moved on and is now doing solo albums. However, their sound, style and genre are very similar. That's because Steven Wilson was Porcupine Tree's frontman, main writer and producer. He's really good at music production and his work is worshiped in the progressive rock scene. \n\nAnyways, I want to use a machine learning algorithm (specifically, a classifier) that tells me if a song is similar Wilson's style. So in order to build the classifier I have to train it with Wilson's songs. So, **The initial question was...** *should I use Porcupine Tree's songs as training data? *\n\nApparently, yes. \n\nThere are a few differences though. Steven Wilson tends to be sadder (see *valence*), less energetic (see *energy*) and quieter (see *loudness*). Porcupine Tree used to be a little more noisy and energetic, I guess you could call them more \"danceable\".\n\nAlso, there are some tempo differences... PT is slower than SW. That's because early PT was more experimental. They had more psychodelic tracks, you know: ambient noises, echoes, electronics, people talking (see *speechiness*)... no instruments or lyrics at all. On the other hand, Steven Wilson's solo work is more traditional, he has more classic influences like *King Crimson* and *Yes*. That's why most of his tempos fall in the safe-120-area. Some even say that he just follows the \"progressive rock blueprints\", but let's not deviate...\n\nThese differences are not *that* significant though, it's normal for some songs to be kind of different from each other. Imagine an album where all the songs have the same valence, tempo and energy... that'd be very boring. \n\nThere are major similarities between these two artists. Both are kind of sad and use chords in similar ways, i.e. minor and major chords (see *mode*). They like to use voiceovers in their songs (see *speechiness*), both follow the 4/4 \"standard\" measure. (see *time signature*). Both use the same musical notes in similar ways (see *key*). Finally, they are instrumentally related and you can *kind of* dance to both PT and SW."
    }
  ],
  "metadata": {
    "kernelspec": {
      "display_name": "Python 3",
      "language": "python",
      "name": "python3"
    },
    "language_info": {
      "file_extension": ".py",
      "name": "python",
      "pygments_lexer": "ipython3",
      "mimetype": "text/x-python",
      "version": "3.6.3",
      "nbconvert_exporter": "python",
      "codemirror_mode": {
        "version": 3,
        "name": "ipython"
      }
    }
  },
  "nbformat": 4,
  "nbformat_minor": 1
}